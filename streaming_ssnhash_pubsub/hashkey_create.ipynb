{
 "cells": [
  {
   "cell_type": "code",
   "execution_count": null,
   "metadata": {},
   "outputs": [],
   "source": [
    "import base64\n",
    "import secrets\n",
    "from google.cloud import secretmanager"
   ]
  },
  {
   "cell_type": "code",
   "execution_count": null,
   "metadata": {},
   "outputs": [],
   "source": [
    "PROJECT_ID = \"practice-springml-ssnhash-py\"\n",
    "SECRET = \"hash-key-64\""
   ]
  },
  {
   "cell_type": "code",
   "execution_count": null,
   "metadata": {},
   "outputs": [],
   "source": [
    "def make_hashkey(project_id, secret_id):\n",
    "    key = secrets.token_bytes(64)\n",
    "    b64 = base64.b64encode(key)\n",
    "    client = secretmanager.SecretManagerServiceClient()\n",
    "    client.create_secret(\n",
    "        request={\n",
    "            \"parent\": f\"projects/{project_id}\",\n",
    "            \"secret_id\": secret_id,\n",
    "            \"secret\": {\"replication\": {\"automatic\": {}}}\n",
    "        })\n",
    "    client.add_secret_version(\n",
    "        request={\n",
    "            \"parent\": f\"projects/{project_id}/secrets/{secret_id}\", \n",
    "            \"payload\": {\"data\": b64}\n",
    "        })"
   ]
  },
  {
   "cell_type": "code",
   "execution_count": null,
   "metadata": {},
   "outputs": [],
   "source": [
    "make_hashkey(PROJECT_ID, SECRET)"
   ]
  }
 ],
 "metadata": {
  "language_info": {
   "name": "python"
  },
  "orig_nbformat": 4
 },
 "nbformat": 4,
 "nbformat_minor": 2
}
