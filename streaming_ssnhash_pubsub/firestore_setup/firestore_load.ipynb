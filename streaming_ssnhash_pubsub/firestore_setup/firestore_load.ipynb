{
 "cells": [
  {
   "cell_type": "markdown",
   "metadata": {},
   "source": [
    "### prerequisite is hashkey_create.ipynb"
   ]
  },
  {
   "cell_type": "markdown",
   "metadata": {},
   "source": [
    "<https://cloud.google.com/firestore/docs/create-database-server-client-library#initialize>"
   ]
  },
  {
   "cell_type": "code",
   "execution_count": 1,
   "metadata": {},
   "outputs": [],
   "source": [
    "import os, re, hmac\n",
    "from base64 import b64encode, b64decode\n",
    "from google.cloud import firestore\n",
    "from google.cloud import secretmanager"
   ]
  },
  {
   "cell_type": "code",
   "execution_count": 2,
   "metadata": {},
   "outputs": [],
   "source": [
    "PROJECT_ID = \"practice-springml-ssnhash-py\"\n",
    "SECRET = \"hash-key-64\"\n",
    "SALT = \"eeba2d314a46c84ed4c3cab991d0359a\"\n",
    "COLLECTION = \"hashed_socials\""
   ]
  },
  {
   "cell_type": "code",
   "execution_count": 3,
   "metadata": {},
   "outputs": [],
   "source": [
    "def access_hashkey(project_id, secret_id, version_id):\n",
    "    client = secretmanager.SecretManagerServiceClient()\n",
    "    name = f\"projects/{project_id}/secrets/{secret_id}/versions/{version_id}\"\n",
    "    response = client.access_secret_version(request={\"name\": name})\n",
    "    payload = response.payload.data\n",
    "    return b64decode(payload)"
   ]
  },
  {
   "cell_type": "code",
   "execution_count": 4,
   "metadata": {},
   "outputs": [],
   "source": [
    "def hash_ssn(ssn, key, salt):\n",
    "    norm_ssn = ssn.strip().replace('-', '')\n",
    "    if not re.match(r'[0-9]{9}', norm_ssn):\n",
    "        raise ValueError(f\"Normalized SSN from {norm_ssn} is not a 9 digit number\")\n",
    "    salt = salt.encode('utf-8')\n",
    "    mac = hmac.new(key, msg=salt, digestmod='sha256')\n",
    "    mac.update(norm_ssn.encode('utf-8'))\n",
    "    return mac.hexdigest()"
   ]
  },
  {
   "cell_type": "code",
   "execution_count": 5,
   "metadata": {},
   "outputs": [],
   "source": [
    "hashkey = access_hashkey(PROJECT_ID, SECRET, \"latest\")\n",
    "\n",
    "db = firestore.Client(project = PROJECT_ID)\n",
    "\n",
    "for ssn in open(\"fake_socials.txt\"):\n",
    "\n",
    "    hashed_ssn = hash_ssn(ssn, hashkey, SALT)\n",
    "    db.collection(COLLECTION).document(hashed_ssn).set({u'exists': True})\n"
   ]
  }
 ],
 "metadata": {
  "interpreter": {
   "hash": "05456d234f2fc06f7e24ea4f09035e07bba2f7963f787014387735baf85bbe04"
  },
  "kernelspec": {
   "display_name": "Python 3.8.10 ('onboard_beam-R5rNJSK6')",
   "language": "python",
   "name": "python3"
  },
  "language_info": {
   "codemirror_mode": {
    "name": "ipython",
    "version": 3
   },
   "file_extension": ".py",
   "mimetype": "text/x-python",
   "name": "python",
   "nbconvert_exporter": "python",
   "pygments_lexer": "ipython3",
   "version": "3.8.10"
  },
  "orig_nbformat": 4
 },
 "nbformat": 4,
 "nbformat_minor": 2
}
