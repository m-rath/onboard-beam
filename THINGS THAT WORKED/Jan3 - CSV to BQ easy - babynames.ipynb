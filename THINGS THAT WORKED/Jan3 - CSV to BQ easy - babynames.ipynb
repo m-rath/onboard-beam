{
 "cells": [
  {
   "cell_type": "code",
   "execution_count": 2,
   "metadata": {},
   "outputs": [],
   "source": [
    "from google.cloud import bigquery"
   ]
  },
  {
   "cell_type": "code",
   "execution_count": 3,
   "metadata": {},
   "outputs": [],
   "source": [
    "client = bigquery.Client()"
   ]
  },
  {
   "cell_type": "code",
   "execution_count": 7,
   "metadata": {},
   "outputs": [],
   "source": [
    "ds = client.get_dataset('practice-springml.baby_names')"
   ]
  },
  {
   "cell_type": "code",
   "execution_count": 8,
   "metadata": {},
   "outputs": [
    {
     "data": {
      "text/plain": [
       "'baby_names'"
      ]
     },
     "execution_count": 8,
     "metadata": {},
     "output_type": "execute_result"
    }
   ],
   "source": [
    "ds.dataset_id"
   ]
  },
  {
   "cell_type": "code",
   "execution_count": 14,
   "metadata": {},
   "outputs": [],
   "source": [
    "schema = [\n",
    "    bigquery.SchemaField(\"state\", \"STRING\"),\n",
    "    bigquery.SchemaField(\"gender\", \"STRING\"),\n",
    "    bigquery.SchemaField(\"year\", \"INTEGER\"),\n",
    "    bigquery.SchemaField(\"name\", \"STRING\"),\n",
    "    bigquery.SchemaField(\"number\", \"INTEGER\")]"
   ]
  },
  {
   "cell_type": "code",
   "execution_count": 15,
   "metadata": {},
   "outputs": [],
   "source": [
    "job_config = bigquery.LoadJobConfig(\n",
    "    # autodetect = True,\n",
    "    schema = schema,\n",
    "    skip_leading_rows = 1,\n",
    "    source_format = bigquery.SourceFormat.CSV,\n",
    "    write_disposition = \"WRITE_TRUNCATE\"\n",
    "    )"
   ]
  },
  {
   "cell_type": "code",
   "execution_count": 16,
   "metadata": {},
   "outputs": [
    {
     "data": {
      "text/plain": [
       "LoadJob<project=practice-springml, location=us-central1, id=aa766faa-a5e7-4303-93ae-0cdf9692485f>"
      ]
     },
     "execution_count": 16,
     "metadata": {},
     "output_type": "execute_result"
    }
   ],
   "source": [
    "load_job = client.load_table_from_uri(\n",
    "    source_uris = \"gs://names-pivot/usa_names.csv\", \n",
    "    destination = \"practice-springml.baby_names.orig_table\", \n",
    "    job_config = job_config\n",
    "    )\n",
    "\n",
    "load_job.result()"
   ]
  },
  {
   "cell_type": "code",
   "execution_count": null,
   "metadata": {},
   "outputs": [],
   "source": []
  }
 ],
 "metadata": {
  "interpreter": {
   "hash": "05456d234f2fc06f7e24ea4f09035e07bba2f7963f787014387735baf85bbe04"
  },
  "kernelspec": {
   "display_name": "Python 3.8.10 64-bit ('onboard_beam-R5rNJSK6': pipenv)",
   "language": "python",
   "name": "python3"
  },
  "language_info": {
   "codemirror_mode": {
    "name": "ipython",
    "version": 3
   },
   "file_extension": ".py",
   "mimetype": "text/x-python",
   "name": "python",
   "nbconvert_exporter": "python",
   "pygments_lexer": "ipython3",
   "version": "3.8.10"
  },
  "orig_nbformat": 4
 },
 "nbformat": 4,
 "nbformat_minor": 2
}
