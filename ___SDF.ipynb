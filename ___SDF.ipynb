{
 "cells": [
  {
   "cell_type": "code",
   "execution_count": null,
   "metadata": {},
   "outputs": [],
   "source": [
    "import os\n",
    "from io import TextIOWrapper\n",
    "from csv import reader, DictReader\n",
    "import apache_beam as beam\n",
    "from apache_beam.io.gcp.gcsio import GcsIO\n",
    "\n",
    "import apache_beam.runners.interactive.interactive_beam as ib\n",
    "from apache_beam.runners.interactive.interactive_runner import InteractiveRunner\n",
    "\n",
    "from apache_beam.transforms.core import RestrictionProvider"
   ]
  }
 ],
 "metadata": {
  "interpreter": {
   "hash": "05456d234f2fc06f7e24ea4f09035e07bba2f7963f787014387735baf85bbe04"
  },
  "kernelspec": {
   "display_name": "Python 3.8.10 64-bit ('onboard_beam-R5rNJSK6': pipenv)",
   "language": "python",
   "name": "python3"
  },
  "language_info": {
   "name": "python",
   "version": "3.8.10"
  },
  "orig_nbformat": 4
 },
 "nbformat": 4,
 "nbformat_minor": 2
}
