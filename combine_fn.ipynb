{
 "cells": [
  {
   "cell_type": "code",
   "execution_count": 1,
   "metadata": {},
   "outputs": [],
   "source": [
    "import apache_beam as beam\n",
    "import apache_beam.runners.interactive.interactive_beam as ib\n",
    "from apache_beam.runners.interactive.interactive_runner import InteractiveRunner\n",
    "from apache_beam.pipeline import Pipeline\n",
    "from apache_beam.io import ReadFromBigQuery\n",
    "from apache_beam.io.gcp.internal.clients import bigquery\n",
    "from typing import List, Tuple, Any"
   ]
  },
  {
   "cell_type": "code",
   "execution_count": 2,
   "metadata": {},
   "outputs": [],
   "source": [
    "import warnings\n",
    "warnings.filterwarnings(action='ignore')"
   ]
  },
  {
   "cell_type": "code",
   "execution_count": 14,
   "metadata": {},
   "outputs": [
    {
     "name": "stderr",
     "output_type": "stream",
     "text": [
      "WARNING:root:Make sure that locally built Python SDK docker image has Python 3.8 interpreter.\n"
     ]
    },
    {
     "name": "stdout",
     "output_type": "stream",
     "text": [
      "{'🍅', '🥕'}\n"
     ]
    }
   ],
   "source": [
    "def get_common_items(sets):\n",
    "  # set.intersection() takes multiple sets as separete arguments.\n",
    "  # We unpack the `sets` list into multiple arguments with the * operator.\n",
    "  # The combine transform might give us an empty list of `sets`,\n",
    "  # so we use a list with an empty set as a default value.\n",
    "  return set.intersection(*(sets or [set()]))\n",
    "\n",
    "with beam.Pipeline() as pipeline:\n",
    "  common_items = (\n",
    "      pipeline\n",
    "      | 'Create produce' >> beam.Create([\n",
    "          {'🍓', '🥕', '🍌', '🍅', '🌶️'},\n",
    "          {'🍇', '🥕', '🥝', '🍅', '🥔'},\n",
    "          {'🍉', '🥕', '🍆', '🍅', '🍍'},\n",
    "          {'🥑', '🥕', '🌽', '🍅', '🥥'},\n",
    "      ])\n",
    "      | 'Get common items' >> beam.CombineGlobally(get_common_items)\n",
    "      | beam.Map(print))"
   ]
  },
  {
   "cell_type": "code",
   "execution_count": 5,
   "metadata": {},
   "outputs": [],
   "source": [
    "class CollapsePivoted(beam.CombineFn):\n",
    "    def create_accumulator(self):\n",
    "        return {}\n",
    "\n",
    "    def add_input(self, accumulator, input):\n",
    "        for row in input:\n",
    "            for k,v in row.items():\n",
    "                if type(v) != str:\n",
    "                    if v is None:\n",
    "                        v = 0\n",
    "                    if k not in accumulator:\n",
    "                        accumulator[k] = v\n",
    "                    else:\n",
    "                        accumulator[k] += v\n",
    "        return accumulator\n",
    "\n",
    "    def merge_accumulators(self, accumulators):\n",
    "        merged = {}\n",
    "        for accum in accumulators:\n",
    "            for k, v in accum.items():\n",
    "                if type(v) != str:\n",
    "                    if v is None:\n",
    "                        v = 0\n",
    "                    if k not in merged:\n",
    "                        merged[k] = v\n",
    "                        merged[k] += v\n",
    "        return merged\n",
    "\n",
    "    def extract_output(self, accumulator):\n",
    "        # # accumulator ex: ('Casey', {'RI_number': 16, 'F_number': 440, ...})\n",
    "        # name, counts = accumulator\n",
    "        # # total = counts['F_number'] + counts['M_number']\n",
    "        # acc = {'name' : name}\n",
    "        # counts = sorted(counts, key=lambda x: counts.get(x), reverse=True)\n",
    "        # for k,v in counts.items():\n",
    "        #     acc.update({k:v})\n",
    "        \n",
    "        return accumulator#sorted(accumulator.items(), key=lambda x: accumulator.__getitem__(x))\n",
    "\n",
    "# with beam.Pipeline() as pipeline:\n",
    "#     percentages = (\n",
    "#         pipeline\n",
    "#         | 'Create produce' >> beam.Create(\n",
    "#             ['🥕', '🍅', '🍅', '🥕', '🍆', '🍅', '🍅', '🍅', '🥕', '🍅'])\n",
    "#         | 'Get percentages' >> beam.CombineGlobally(PercentagesFn())\n",
    "#         | beam.Map(print))\n",
    "\n",
    "# {'🥕': 0.3, '🍅': 0.6, '🍆': 0.1}"
   ]
  },
  {
   "cell_type": "code",
   "execution_count": 28,
   "metadata": {},
   "outputs": [
    {
     "name": "stderr",
     "output_type": "stream",
     "text": [
      "WARNING:root:Make sure that locally built Python SDK docker image has Python 3.8 interpreter.\n"
     ]
    },
    {
     "name": "stdout",
     "output_type": "stream",
     "text": [
      "{'a': 'bogus', 'b': 16, 'c': 6, 'd': 18}\n",
      "{'a': 'hola', 'b': 12, 'c': 16, 'd': 4}\n"
     ]
    },
    {
     "data": {
      "text/plain": [
       "<apache_beam.runners.interactive.interactive_runner.PipelineResult at 0x248ccc237f0>"
      ]
     },
     "execution_count": 28,
     "metadata": {},
     "output_type": "execute_result"
    }
   ],
   "source": [
    "p = Pipeline(InteractiveRunner())\n",
    "pcoll = p | beam.Create([{'a':'bogus','b':1,'c':3,'d':6}, {'a':'bogus','b':7,'c':None,'d':3}, {'a':'hola','b':6,'c':8,'d':2}])\n",
    "\n",
    "keyfields = ['a']\n",
    "\n",
    "result = (\n",
    "    pcoll \n",
    "    | beam.GroupBy(lambda rowdict: rowdict.get('a')) \n",
    "    | beam.CombinePerKey(CollapsePivoted())\n",
    "    | beam.Map(lambda tup: [{keyfields[0]:tup[0]}, tup[1]] )\n",
    "    | beam.Map(lambda x: {k:v for d in x for k,v in d.items()} )\n",
    "    | beam.Map(print)\n",
    "    )\n",
    "p.run()\n",
    "\n",
    "# ('bogus', {'b': 16, 'c': 14, 'd': 18})\n",
    "# ('hola', {'b': 12, 'c': 16, 'd': 4})\n",
    "# ...\n",
    "# {'a': 'bogus', 'b': 16, 'c': 6, 'd': 18}\n",
    "# {'a': 'hola', 'b': 12, 'c': 16, 'd': 4}"
   ]
  },
  {
   "cell_type": "code",
   "execution_count": 19,
   "metadata": {},
   "outputs": [
    {
     "data": {
      "text/plain": [
       "({'a': 'bogus'}, dict_items([('b', 16), ('c', 14), ('d', 18)]))"
      ]
     },
     "execution_count": 19,
     "metadata": {},
     "output_type": "execute_result"
    }
   ],
   "source": [
    "tup = ('bogus', {'b': 16, 'c': 14, 'd': 18})\n",
    "{'a':tup[0]}, tup[1].items()"
   ]
  },
  {
   "cell_type": "code",
   "execution_count": 18,
   "metadata": {},
   "outputs": [],
   "source": [
    "{'a': 'bogus'}.update({'b': 16, 'c': 14, 'd': 18}.items())"
   ]
  },
  {
   "cell_type": "code",
   "execution_count": 27,
   "metadata": {},
   "outputs": [
    {
     "name": "stderr",
     "output_type": "stream",
     "text": [
      "C:\\Users\\markc\\.virtualenvs\\onboard_beam-R5rNJSK6\\lib\\site-packages\\ipykernel\\ipkernel.py:283: DeprecationWarning: `should_run_async` will not call `transform_cell` automatically in the future. Please pass the result to `transformed_cell` argument and any exception that happen during thetransform in `preprocessing_exc_tuple` in IPython 7.17 and above.\n",
      "  and should_run_async(code)\n",
      "WARNING:root:Make sure that locally built Python SDK docker image has Python 3.8 interpreter.\n"
     ]
    },
    {
     "name": "stdout",
     "output_type": "stream",
     "text": [
      "{'a': 18, 'b': 28, 'c': 30, 'd': 22}\n"
     ]
    },
    {
     "data": {
      "text/plain": [
       "<apache_beam.runners.interactive.interactive_runner.PipelineResult at 0x19d2c813640>"
      ]
     },
     "execution_count": 27,
     "metadata": {},
     "output_type": "execute_result"
    }
   ],
   "source": [
    "p.run()\n",
    "# ib.show(result)"
   ]
  },
  {
   "cell_type": "code",
   "execution_count": 60,
   "metadata": {},
   "outputs": [],
   "source": [
    "d = dict([('a',3),('b','s')])"
   ]
  },
  {
   "cell_type": "code",
   "execution_count": 107,
   "metadata": {},
   "outputs": [
    {
     "data": {
      "text/plain": [
       "3"
      ]
     },
     "execution_count": 107,
     "metadata": {},
     "output_type": "execute_result"
    }
   ],
   "source": [
    "d.get('a')"
   ]
  },
  {
   "cell_type": "code",
   "execution_count": 67,
   "metadata": {},
   "outputs": [
    {
     "name": "stderr",
     "output_type": "stream",
     "text": [
      "C:\\Users\\markc\\.virtualenvs\\onboard_beam-R5rNJSK6\\lib\\site-packages\\ipykernel\\ipkernel.py:283: DeprecationWarning: `should_run_async` will not call `transform_cell` automatically in the future. Please pass the result to `transformed_cell` argument and any exception that happen during thetransform in `preprocessing_exc_tuple` in IPython 7.17 and above.\n",
      "  and should_run_async(code)\n"
     ]
    }
   ],
   "source": [
    "kf = ['a']"
   ]
  },
  {
   "cell_type": "code",
   "execution_count": 69,
   "metadata": {},
   "outputs": [
    {
     "data": {
      "text/plain": [
       "3"
      ]
     },
     "execution_count": 69,
     "metadata": {},
     "output_type": "execute_result"
    }
   ],
   "source": [
    "d.__getitem__(*kf)"
   ]
  },
  {
   "cell_type": "code",
   "execution_count": null,
   "metadata": {},
   "outputs": [],
   "source": []
  }
 ],
 "metadata": {
  "interpreter": {
   "hash": "05456d234f2fc06f7e24ea4f09035e07bba2f7963f787014387735baf85bbe04"
  },
  "kernelspec": {
   "display_name": "Python 3.8.10 64-bit ('onboard_beam-R5rNJSK6': pipenv)",
   "language": "python",
   "name": "python3"
  },
  "language_info": {
   "codemirror_mode": {
    "name": "ipython",
    "version": 3
   },
   "file_extension": ".py",
   "mimetype": "text/x-python",
   "name": "python",
   "nbconvert_exporter": "python",
   "pygments_lexer": "ipython3",
   "version": "3.8.10"
  },
  "orig_nbformat": 4
 },
 "nbformat": 4,
 "nbformat_minor": 2
}
